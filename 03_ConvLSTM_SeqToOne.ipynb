{
 "cells": [
  {
   "cell_type": "code",
   "execution_count": 1,
   "metadata": {},
   "outputs": [],
   "source": [
    "import numpy as np\n",
    "import matplotlib.pyplot as plt\n",
    "%matplotlib inline\n",
    "import torch\n",
    "from torch.autograd import Variable\n",
    "import torch.nn as nn\n",
    "from torch.utils import data"
   ]
  },
  {
   "cell_type": "markdown",
   "metadata": {},
   "source": [
    "# Import moving MNIST"
   ]
  },
  {
   "cell_type": "code",
   "execution_count": 2,
   "metadata": {},
   "outputs": [
    {
     "data": {
      "text/plain": [
       "(20, 10000, 64, 64)"
      ]
     },
     "execution_count": 2,
     "metadata": {},
     "output_type": "execute_result"
    }
   ],
   "source": [
    "Moving_MNIST = np.load('data/mnist_test_seq.npy')\n",
    "Moving_MNIST = Moving_MNIST / 255\n",
    "Moving_MNIST.shape"
   ]
  },
  {
   "cell_type": "markdown",
   "metadata": {},
   "source": [
    "# Give `torch` the data"
   ]
  },
  {
   "cell_type": "code",
   "execution_count": 3,
   "metadata": {},
   "outputs": [
    {
     "data": {
      "text/plain": [
       "torch.Size([10000, 20, 1, 64, 64])"
      ]
     },
     "execution_count": 3,
     "metadata": {},
     "output_type": "execute_result"
    }
   ],
   "source": [
    "# Making into PyTorch tensor\n",
    "Moving_MNIST_tensor = torch.from_numpy(Moving_MNIST)\n",
    "\n",
    "# Putting the existing dimensions into appropriate order\n",
    "Moving_MNIST_tensor = Moving_MNIST_tensor.permute(1, 0, 2, 3)\n",
    "\n",
    "# Added the acknowledge that this is 1 spectral band\n",
    "Moving_MNIST_tensor = Moving_MNIST_tensor.unsqueeze(2)\n",
    "\n",
    "# Checking shape\n",
    "Moving_MNIST_tensor.shape"
   ]
  },
  {
   "cell_type": "markdown",
   "metadata": {},
   "source": [
    "# Train/test split"
   ]
  },
  {
   "cell_type": "code",
   "execution_count": 4,
   "metadata": {},
   "outputs": [],
   "source": [
    "train_indices = np.random.choice(range(10000), size = 8000, replace = False)\n",
    "\n",
    "test_indices = [index for index in range(10000) if index not in train_indices.tolist()]"
   ]
  },
  {
   "cell_type": "markdown",
   "metadata": {},
   "source": [
    "# Separating $x$ (first $10$ in each sequence) and $y$ (last $10$ in each sequence)"
   ]
  },
  {
   "cell_type": "code",
   "execution_count": 12,
   "metadata": {},
   "outputs": [],
   "source": [
    "def sep_x_y(tensor_to_separate):\n",
    "    x = []\n",
    "    y = []\n",
    "    for i in range(len(tensor_to_separate)):\n",
    "        current_seq = tensor_to_separate[i, :, :, :, :]\n",
    "        for j in range(current_seq.shape[0]):\n",
    "            if j >= 10:\n",
    "                current_x = current_seq[(j-10):j].numpy()\n",
    "                x.append(current_x)\n",
    "                current_y = current_seq[j].unsqueeze(dim = 0).numpy()\n",
    "                y.append(current_y)\n",
    "    x = np.asarray(x)\n",
    "    x = torch.from_numpy(x).type(torch.FloatTensor)\n",
    "    y = np.asarray(y)\n",
    "    y = torch.from_numpy(y).type(torch.FloatTensor)\n",
    "    return(x, y)"
   ]
  },
  {
   "cell_type": "code",
   "execution_count": 47,
   "metadata": {},
   "outputs": [
    {
     "ename": "MemoryError",
     "evalue": "",
     "output_type": "error",
     "traceback": [
      "\u001b[0;31m---------------------------------------------------------------------------\u001b[0m",
      "\u001b[0;31mMemoryError\u001b[0m                               Traceback (most recent call last)",
      "\u001b[0;32m<ipython-input-47-fc19db7484bf>\u001b[0m in \u001b[0;36m<module>\u001b[0;34m()\u001b[0m\n\u001b[0;32m----> 1\u001b[0;31m \u001b[0mx\u001b[0m\u001b[0;34m,\u001b[0m \u001b[0my\u001b[0m \u001b[0;34m=\u001b[0m \u001b[0msep_x_y\u001b[0m\u001b[0;34m(\u001b[0m\u001b[0mMoving_MNIST_tensor\u001b[0m\u001b[0;34m[\u001b[0m\u001b[0mtrain_indices\u001b[0m\u001b[0;34m]\u001b[0m\u001b[0;34m)\u001b[0m\u001b[0;34m\u001b[0m\u001b[0m\n\u001b[0m\u001b[1;32m      2\u001b[0m \u001b[0mx_test\u001b[0m\u001b[0;34m,\u001b[0m \u001b[0my_test\u001b[0m \u001b[0;34m=\u001b[0m \u001b[0msep_x_y\u001b[0m\u001b[0;34m(\u001b[0m\u001b[0mMoving_MNIST_tensor\u001b[0m\u001b[0;34m[\u001b[0m\u001b[0mtest_indices\u001b[0m\u001b[0;34m]\u001b[0m\u001b[0;34m)\u001b[0m\u001b[0;34m\u001b[0m\u001b[0m\n",
      "\u001b[0;32m<ipython-input-12-15ead732da9c>\u001b[0m in \u001b[0;36msep_x_y\u001b[0;34m(tensor_to_separate)\u001b[0m\n\u001b[1;32m     10\u001b[0m                 \u001b[0mcurrent_y\u001b[0m \u001b[0;34m=\u001b[0m \u001b[0mcurrent_seq\u001b[0m\u001b[0;34m[\u001b[0m\u001b[0mj\u001b[0m\u001b[0;34m]\u001b[0m\u001b[0;34m.\u001b[0m\u001b[0munsqueeze\u001b[0m\u001b[0;34m(\u001b[0m\u001b[0mdim\u001b[0m \u001b[0;34m=\u001b[0m \u001b[0;36m0\u001b[0m\u001b[0;34m)\u001b[0m\u001b[0;34m.\u001b[0m\u001b[0mnumpy\u001b[0m\u001b[0;34m(\u001b[0m\u001b[0;34m)\u001b[0m\u001b[0;34m\u001b[0m\u001b[0m\n\u001b[1;32m     11\u001b[0m                 \u001b[0my\u001b[0m\u001b[0;34m.\u001b[0m\u001b[0mappend\u001b[0m\u001b[0;34m(\u001b[0m\u001b[0mcurrent_y\u001b[0m\u001b[0;34m)\u001b[0m\u001b[0;34m\u001b[0m\u001b[0m\n\u001b[0;32m---> 12\u001b[0;31m     \u001b[0mx\u001b[0m \u001b[0;34m=\u001b[0m \u001b[0mnp\u001b[0m\u001b[0;34m.\u001b[0m\u001b[0masarray\u001b[0m\u001b[0;34m(\u001b[0m\u001b[0mx\u001b[0m\u001b[0;34m)\u001b[0m\u001b[0;34m\u001b[0m\u001b[0m\n\u001b[0m\u001b[1;32m     13\u001b[0m     \u001b[0mx\u001b[0m \u001b[0;34m=\u001b[0m \u001b[0mtorch\u001b[0m\u001b[0;34m.\u001b[0m\u001b[0mfrom_numpy\u001b[0m\u001b[0;34m(\u001b[0m\u001b[0mx\u001b[0m\u001b[0;34m)\u001b[0m\u001b[0;34m.\u001b[0m\u001b[0mtype\u001b[0m\u001b[0;34m(\u001b[0m\u001b[0mtorch\u001b[0m\u001b[0;34m.\u001b[0m\u001b[0mFloatTensor\u001b[0m\u001b[0;34m)\u001b[0m\u001b[0;34m\u001b[0m\u001b[0m\n\u001b[1;32m     14\u001b[0m     \u001b[0my\u001b[0m \u001b[0;34m=\u001b[0m \u001b[0mnp\u001b[0m\u001b[0;34m.\u001b[0m\u001b[0masarray\u001b[0m\u001b[0;34m(\u001b[0m\u001b[0my\u001b[0m\u001b[0;34m)\u001b[0m\u001b[0;34m\u001b[0m\u001b[0m\n",
      "\u001b[0;32m/usr/local/lib/python3.5/dist-packages/numpy/core/numeric.py\u001b[0m in \u001b[0;36masarray\u001b[0;34m(a, dtype, order)\u001b[0m\n\u001b[1;32m    490\u001b[0m \u001b[0;34m\u001b[0m\u001b[0m\n\u001b[1;32m    491\u001b[0m     \"\"\"\n\u001b[0;32m--> 492\u001b[0;31m     \u001b[0;32mreturn\u001b[0m \u001b[0marray\u001b[0m\u001b[0;34m(\u001b[0m\u001b[0ma\u001b[0m\u001b[0;34m,\u001b[0m \u001b[0mdtype\u001b[0m\u001b[0;34m,\u001b[0m \u001b[0mcopy\u001b[0m\u001b[0;34m=\u001b[0m\u001b[0;32mFalse\u001b[0m\u001b[0;34m,\u001b[0m \u001b[0morder\u001b[0m\u001b[0;34m=\u001b[0m\u001b[0morder\u001b[0m\u001b[0;34m)\u001b[0m\u001b[0;34m\u001b[0m\u001b[0m\n\u001b[0m\u001b[1;32m    493\u001b[0m \u001b[0;34m\u001b[0m\u001b[0m\n\u001b[1;32m    494\u001b[0m \u001b[0;34m\u001b[0m\u001b[0m\n",
      "\u001b[0;31mMemoryError\u001b[0m: "
     ]
    }
   ],
   "source": [
    "x, y = sep_x_y(Moving_MNIST_tensor[train_indices])\n",
    "x_test, y_test = sep_x_y(Moving_MNIST_tensor[test_indices])"
   ]
  },
  {
   "cell_type": "markdown",
   "metadata": {},
   "source": [
    "# Viewing the overlaid $(x, y)$ sequences"
   ]
  },
  {
   "cell_type": "code",
   "execution_count": 53,
   "metadata": {},
   "outputs": [
    {
     "data": {
      "image/png": "[encoded data removed]",
      "text/plain": [
       "<Figure size 432x288 with 1 Axes>"
      ]
     },
     "metadata": {},
     "output_type": "display_data"
    }
   ],
   "source": [
    "random_index = np.random.choice(len(x_test))\n",
    "\n",
    "for i in range(10):\n",
    "    plt.imshow(x_test[random_index, i, 0], alpha = 0.25, cmap = 'gist_gray')\n",
    "plt.imshow(y_test[random_index, 0, 0], cmap = 'Reds', alpha = 0.5);"
   ]
  },
  {
   "cell_type": "markdown",
   "metadata": {},
   "source": [
    "# Defining the model"
   ]
  },
  {
   "cell_type": "code",
   "execution_count": 7,
   "metadata": {},
   "outputs": [],
   "source": [
    "import torch.nn as nn\n",
    "from torch.autograd import Variable\n",
    "import torch\n",
    "\n",
    "\n",
    "class ConvLSTMCell(nn.Module):\n",
    "\n",
    "    def __init__(self, input_size, input_dim, hidden_dim, kernel_size, bias, GPU):\n",
    "        \"\"\"\n",
    "        Initialize ConvLSTM cell.\n",
    "        \n",
    "        Parameters\n",
    "        ----------\n",
    "        input_size: (int, int)\n",
    "            Height and width of input tensor as (height, width).\n",
    "        input_dim: int\n",
    "            Number of channels of input tensor.\n",
    "        hidden_dim: int\n",
    "            Number of channels of hidden state.\n",
    "        kernel_size: (int, int)\n",
    "            Size of the convolutional kernel.\n",
    "        bias: bool\n",
    "            Whether or not to add the bias.\n",
    "        \"\"\"\n",
    "\n",
    "        super(ConvLSTMCell, self).__init__()\n",
    "\n",
    "        self.height, self.width = input_size\n",
    "        self.input_dim  = input_dim\n",
    "        self.hidden_dim = hidden_dim\n",
    "\n",
    "        self.kernel_size = kernel_size\n",
    "        self.padding     = kernel_size[0] // 2, kernel_size[1] // 2\n",
    "        self.bias        = bias\n",
    "        self.GPU         = GPU\n",
    "        \n",
    "        self.conv = nn.Conv2d(in_channels=self.input_dim + self.hidden_dim,\n",
    "                              out_channels=4 * self.hidden_dim,\n",
    "                              kernel_size=self.kernel_size,\n",
    "                              padding=self.padding,\n",
    "                              bias=self.bias)\n",
    "\n",
    "    def forward(self, input_tensor, cur_state):\n",
    "        \n",
    "        h_cur, c_cur = cur_state\n",
    "        \n",
    "        combined = torch.cat([input_tensor, h_cur], dim=1)  # concatenate along channel axis\n",
    "        \n",
    "        combined_conv = self.conv(combined)\n",
    "        cc_i, cc_f, cc_o, cc_g = torch.split(combined_conv, self.hidden_dim, dim=1) \n",
    "        i = torch.sigmoid(cc_i)\n",
    "        f = torch.sigmoid(cc_f)\n",
    "        o = torch.sigmoid(cc_o)\n",
    "        g = torch.tanh(cc_g)\n",
    "\n",
    "        c_next = f * c_cur + i * g\n",
    "        h_next = o * torch.tanh(c_next)\n",
    "        \n",
    "        return h_next, c_next\n",
    "\n",
    "    def init_hidden(self, batch_size):\n",
    "        to_return = (Variable(torch.zeros(batch_size, self.hidden_dim, self.height, self.width)),\n",
    "                     Variable(torch.zeros(batch_size, self.hidden_dim, self.height, self.width)))\n",
    "        if self.GPU:\n",
    "            to_return = (to_return[0].cuda(), to_return[1].cuda())\n",
    "        return(to_return)\n",
    "\n",
    "\n",
    "class ConvLSTM(nn.Module):\n",
    "\n",
    "    def __init__(self, input_size, input_dim, hidden_dim, kernel_size, num_layers,\n",
    "                 batch_first, bias, return_all_layers, GPU):\n",
    "        super(ConvLSTM, self).__init__()\n",
    "\n",
    "        self._check_kernel_size_consistency(kernel_size)\n",
    "\n",
    "        # Make sure that both `kernel_size` and `hidden_dim` are lists having len == num_layers\n",
    "        kernel_size = self._extend_for_multilayer(kernel_size, num_layers)\n",
    "        hidden_dim  = self._extend_for_multilayer(hidden_dim, num_layers)\n",
    "        if not len(kernel_size) == len(hidden_dim) == num_layers:\n",
    "            raise ValueError('Inconsistent list length.')\n",
    "\n",
    "        self.height, self.width = input_size\n",
    "\n",
    "        self.input_dim  = input_dim\n",
    "        self.hidden_dim = hidden_dim\n",
    "        self.kernel_size = kernel_size\n",
    "        self.num_layers = num_layers\n",
    "        self.batch_first = batch_first\n",
    "        self.bias = bias\n",
    "        self.return_all_layers = return_all_layers\n",
    "        self.GPU = GPU\n",
    "\n",
    "        cell_list = []\n",
    "        for i in range(0, self.num_layers):\n",
    "            cur_input_dim = self.input_dim if i == 0 else self.hidden_dim[i-1]\n",
    "\n",
    "            cell_list.append(ConvLSTMCell(input_size=(self.height, self.width),\n",
    "                                          input_dim=cur_input_dim,\n",
    "                                          hidden_dim=self.hidden_dim[i],\n",
    "                                          kernel_size=self.kernel_size[i],\n",
    "                                          bias=self.bias,\n",
    "                                          GPU=self.GPU))\n",
    "\n",
    "        self.cell_list = nn.ModuleList(cell_list)\n",
    "\n",
    "    def forward(self, input_tensor, hidden_state=None):\n",
    "        \"\"\"\n",
    "        \n",
    "        Parameters\n",
    "        ----------\n",
    "        input_tensor: todo \n",
    "            5-D Tensor either of shape (t, b, c, h, w) or (b, t, c, h, w)\n",
    "        hidden_state: todo\n",
    "            None. todo implement stateful\n",
    "            \n",
    "        Returns\n",
    "        -------\n",
    "        last_state_list, layer_output\n",
    "        \"\"\"\n",
    "        if not self.batch_first:\n",
    "            # (t, b, c, h, w) -> (b, t, c, h, w)\n",
    "            input_tensor.permute(1, 0, 2, 3, 4)\n",
    "\n",
    "        # Implement stateful ConvLSTM\n",
    "        if hidden_state is not None:\n",
    "            raise NotImplementedError()\n",
    "        else:\n",
    "            hidden_state = self._init_hidden(batch_size=input_tensor.size(0))\n",
    "\n",
    "        layer_output_list = []\n",
    "        last_state_list   = []\n",
    "\n",
    "        seq_len = input_tensor.size(1)\n",
    "        cur_layer_input = input_tensor\n",
    "\n",
    "        for layer_idx in range(self.num_layers):\n",
    "\n",
    "            h, c = hidden_state[layer_idx]\n",
    "            output_inner = []\n",
    "            for t in range(seq_len):\n",
    "\n",
    "                h, c = self.cell_list[layer_idx](input_tensor=cur_layer_input[:, t, :, :, :],\n",
    "                                                 cur_state=[h, c])\n",
    "                output_inner.append(h)\n",
    "\n",
    "            layer_output = torch.stack(output_inner, dim=1)\n",
    "            cur_layer_input = layer_output\n",
    "\n",
    "            layer_output_list.append(layer_output)\n",
    "            last_state_list.append([h, c])\n",
    "\n",
    "        if not self.return_all_layers:\n",
    "            layer_output_list = layer_output_list[-1:]\n",
    "            last_state_list   = last_state_list[-1:]\n",
    "\n",
    "        return layer_output_list, last_state_list\n",
    "\n",
    "    def _init_hidden(self, batch_size):\n",
    "        init_states = []\n",
    "        for i in range(self.num_layers):\n",
    "            init_states.append(self.cell_list[i].init_hidden(batch_size))\n",
    "        return init_states\n",
    "\n",
    "    @staticmethod\n",
    "    def _check_kernel_size_consistency(kernel_size):\n",
    "        if not (isinstance(kernel_size, tuple) or\n",
    "                    (isinstance(kernel_size, list) and all([isinstance(elem, tuple) for elem in kernel_size]))):\n",
    "            raise ValueError('`kernel_size` must be tuple or list of tuples')\n",
    "\n",
    "    @staticmethod\n",
    "    def _extend_for_multilayer(param, num_layers):\n",
    "        if not isinstance(param, list):\n",
    "            param = [param] * num_layers\n",
    "        return param"
   ]
  },
  {
   "cell_type": "code",
   "execution_count": 8,
   "metadata": {},
   "outputs": [],
   "source": [
    "# Picking one of the like-sequence tensors within the list to set parameters\n",
    "channels = x.shape[2]\n",
    "height = x.shape[3]\n",
    "width = x.shape[4]"
   ]
  },
  {
   "cell_type": "code",
   "execution_count": 9,
   "metadata": {},
   "outputs": [],
   "source": [
    "conv_lstm = ConvLSTM(input_size = (height,\n",
    "                                   width),\n",
    "                     input_dim = channels,\n",
    "                     hidden_dim = [128, 64, 64, 1],\n",
    "                     kernel_size = (5, 5),\n",
    "                     num_layers = 4,\n",
    "                     batch_first = True,\n",
    "                     bias = True,\n",
    "                     return_all_layers = False,\n",
    "                     GPU = True)"
   ]
  },
  {
   "cell_type": "code",
   "execution_count": 10,
   "metadata": {},
   "outputs": [
    {
     "data": {
      "text/plain": [
       "ConvLSTM(\n",
       "  (cell_list): ModuleList(\n",
       "    (0): ConvLSTMCell(\n",
       "      (conv): Conv2d(129, 512, kernel_size=(5, 5), stride=(1, 1), padding=(2, 2))\n",
       "    )\n",
       "    (1): ConvLSTMCell(\n",
       "      (conv): Conv2d(192, 256, kernel_size=(5, 5), stride=(1, 1), padding=(2, 2))\n",
       "    )\n",
       "    (2): ConvLSTMCell(\n",
       "      (conv): Conv2d(128, 256, kernel_size=(5, 5), stride=(1, 1), padding=(2, 2))\n",
       "    )\n",
       "    (3): ConvLSTMCell(\n",
       "      (conv): Conv2d(65, 4, kernel_size=(5, 5), stride=(1, 1), padding=(2, 2))\n",
       "    )\n",
       "  )\n",
       ")"
      ]
     },
     "execution_count": 10,
     "metadata": {},
     "output_type": "execute_result"
    }
   ],
   "source": [
    "conv_lstm.cuda()"
   ]
  },
  {
   "cell_type": "markdown",
   "metadata": {},
   "source": [
    "# Training"
   ]
  },
  {
   "cell_type": "code",
   "execution_count": 11,
   "metadata": {},
   "outputs": [],
   "source": [
    "loss = torch.nn.MSELoss()\n",
    "optimizer = torch.optim.RMSprop(conv_lstm.parameters(),\n",
    "                                lr = 10**(-3),\n",
    "                                alpha = 0.9)"
   ]
  },
  {
   "cell_type": "code",
   "execution_count": 12,
   "metadata": {},
   "outputs": [],
   "source": [
    "class train_Dataset(data.Dataset):\n",
    "    'Characterizes a dataset for PyTorch'\n",
    "    def __init__(self, data_indices):\n",
    "        'Initialization'\n",
    "        self.data_indices = data_indices\n",
    "    \n",
    "    def __len__(self):\n",
    "        'Denotes the total number of samples'\n",
    "        return len(self.data_indices)\n",
    "    \n",
    "    def __getitem__(self, index):\n",
    "        'Generates one sample of data'\n",
    "        # Select sample\n",
    "        IDs = self.data_indices[index]\n",
    "\n",
    "        # Load data and get label\n",
    "        curr_x = x[IDs, :, :, :, :]\n",
    "        curr_y = y[IDs, :, :, :, :]\n",
    "\n",
    "        #return X, y\n",
    "        return(curr_x, curr_y)\n",
    "    \n",
    "class test_Dataset(data.Dataset):\n",
    "    'Characterizes a dataset for PyTorch'\n",
    "    def __init__(self, data_indices):\n",
    "        'Initialization'\n",
    "        self.data_indices = data_indices\n",
    "    \n",
    "    def __len__(self):\n",
    "        'Denotes the total number of samples'\n",
    "        return len(self.data_indices)\n",
    "    \n",
    "    def __getitem__(self, index):\n",
    "        'Generates one sample of data'\n",
    "        # Select sample\n",
    "        IDs = self.data_indices[index]\n",
    "\n",
    "        # Load data and get label\n",
    "        curr_x = x_test[IDs, :, :, :, :]\n",
    "        curr_y = y_test[IDs, :, :, :, :]\n",
    "\n",
    "        #return X, y\n",
    "        return(curr_x, curr_y)"
   ]
  },
  {
   "cell_type": "code",
   "execution_count": 13,
   "metadata": {},
   "outputs": [],
   "source": [
    "training_set = train_Dataset(data_indices=range(y.shape[0]))\n",
    "testing_set = test_Dataset(data_indices=range(y_test.shape[0]))\n",
    "\n",
    "batch_size = 100\n",
    "\n",
    "train_loader = torch.utils.data.DataLoader(dataset = training_set,\n",
    "                                           batch_size = batch_size,\n",
    "                                           shuffle = True)\n",
    "test_loader = torch.utils.data.DataLoader(dataset = testing_set,\n",
    "                                          batch_size = batch_size,\n",
    "                                          shuffle = True)"
   ]
  },
  {
   "cell_type": "code",
   "execution_count": 14,
   "metadata": {},
   "outputs": [],
   "source": [
    "device = torch.device(\"cuda:0\" if torch.cuda.is_available() else \"cpu\")"
   ]
  },
  {
   "cell_type": "code",
   "execution_count": 15,
   "metadata": {},
   "outputs": [],
   "source": [
    "conv_lstm = torch.nn.DataParallel(conv_lstm)"
   ]
  },
  {
   "cell_type": "code",
   "execution_count": 16,
   "metadata": {},
   "outputs": [
    {
     "name": "stdout",
     "output_type": "stream",
     "text": [
      "Epoch:  0 \n",
      "\tBatch loss:  0.04019565507769585 \n",
      "\n",
      "Epoch:  1 \n",
      "\tBatch loss:  0.04068833217024803 \n",
      "\n",
      "Epoch:  2 \n",
      "\tBatch loss:  0.03907826542854309 \n",
      "\n",
      "Epoch:  3 \n",
      "\tBatch loss:  0.03684207797050476 \n",
      "\n",
      "Epoch:  4 \n",
      "\tBatch loss:  0.03609519079327583 \n",
      "\n",
      "Epoch:  5 \n",
      "\tBatch loss:  0.039396751672029495 \n",
      "\n",
      "Epoch:  6 \n",
      "\tBatch loss:  0.03826717287302017 \n",
      "\n",
      "Epoch:  7 \n",
      "\tBatch loss:  0.037398774176836014 \n",
      "\n",
      "Epoch:  8 \n",
      "\tBatch loss:  0.03674032911658287 \n",
      "\n",
      "Epoch:  9 \n",
      "\tBatch loss:  0.03734317049384117 \n",
      "\n",
      "Epoch:  10 \n",
      "\tBatch loss:  0.0362115278840065 \n",
      "\n",
      "Epoch:  11 \n",
      "\tBatch loss:  0.03638283535838127 \n",
      "\n",
      "Epoch:  12 \n",
      "\tBatch loss:  0.038067497313022614 \n",
      "\n",
      "Epoch:  13 \n",
      "\tBatch loss:  0.03902849927544594 \n",
      "\n",
      "Epoch:  14 \n",
      "\tBatch loss:  0.037183526903390884 \n",
      "\n",
      "Epoch:  15 \n",
      "\tBatch loss:  0.036692410707473755 \n",
      "\n",
      "Epoch:  16 \n",
      "\tBatch loss:  0.03582322224974632 \n",
      "\n",
      "Epoch:  17 \n",
      "\tBatch loss:  0.03470247611403465 \n",
      "\n",
      "Epoch:  18 \n",
      "\tBatch loss:  0.036947328597307205 \n",
      "\n",
      "Epoch:  19 \n",
      "\tBatch loss:  0.03765515610575676 \n",
      "\n",
      "Epoch:  20 \n",
      "\tBatch loss:  0.037030983716249466 \n",
      "\n",
      "Epoch:  21 \n",
      "\tBatch loss:  0.03602876514196396 \n",
      "\n",
      "Epoch:  22 \n",
      "\tBatch loss:  0.03590353578329086 \n",
      "\n",
      "Epoch:  23 \n",
      "\tBatch loss:  0.0363449789583683 \n",
      "\n",
      "Epoch:  24 \n",
      "\tBatch loss:  0.03690295293927193 \n",
      "\n",
      "Epoch:  25 \n",
      "\tBatch loss:  0.0370216928422451 \n",
      "\n",
      "Epoch:  26 \n",
      "\tBatch loss:  0.035388167947530746 \n",
      "\n",
      "Epoch:  27 \n",
      "\tBatch loss:  0.03468553349375725 \n",
      "\n",
      "Epoch:  28 \n",
      "\tBatch loss:  0.03565118461847305 \n",
      "\n",
      "Epoch:  29 \n",
      "\tBatch loss:  0.03473559767007828 \n",
      "\n",
      "Epoch:  30 \n",
      "\tBatch loss:  0.03610821068286896 \n",
      "\n",
      "Epoch:  31 \n",
      "\tBatch loss:  0.0357152558863163 \n",
      "\n",
      "Epoch:  32 \n",
      "\tBatch loss:  0.035375453531742096 \n",
      "\n",
      "Epoch:  33 \n",
      "\tBatch loss:  0.03570457547903061 \n",
      "\n",
      "Epoch:  34 \n",
      "\tBatch loss:  0.035671450197696686 \n",
      "\n",
      "Epoch:  35 \n",
      "\tBatch loss:  0.03543207794427872 \n",
      "\n",
      "Epoch:  36 \n",
      "\tBatch loss:  0.03450607508420944 \n",
      "\n",
      "Epoch:  37 \n",
      "\tBatch loss:  0.036008670926094055 \n",
      "\n",
      "Epoch:  38 \n",
      "\tBatch loss:  0.034289032220840454 \n",
      "\n",
      "Epoch:  39 \n",
      "\tBatch loss:  0.03457150235772133 \n",
      "\n",
      "Epoch:  40 \n",
      "\tBatch loss:  0.033832207322120667 \n",
      "\n",
      "Epoch:  41 \n",
      "\tBatch loss:  0.03404645994305611 \n",
      "\n",
      "Epoch:  42 \n",
      "\tBatch loss:  0.033678922802209854 \n",
      "\n",
      "Epoch:  43 \n",
      "\tBatch loss:  0.03500417247414589 \n",
      "\n",
      "Epoch:  44 \n",
      "\tBatch loss:  0.03475714102387428 \n",
      "\n",
      "Epoch:  45 \n",
      "\tBatch loss:  0.03552744537591934 \n",
      "\n",
      "Epoch:  46 \n",
      "\tBatch loss:  0.03372618183493614 \n",
      "\n",
      "Epoch:  47 \n",
      "\tBatch loss:  0.03350704908370972 \n",
      "\n",
      "Epoch:  48 \n",
      "\tBatch loss:  0.033816996961832047 \n",
      "\n",
      "Epoch:  49 \n",
      "\tBatch loss:  0.03310830891132355 \n",
      "\n",
      "Epoch:  50 \n",
      "\tBatch loss:  0.033554770052433014 \n",
      "\n",
      "Epoch:  51 \n",
      "\tBatch loss:  0.033199477940797806 \n",
      "\n",
      "Epoch:  52 \n",
      "\tBatch loss:  0.03294729068875313 \n",
      "\n",
      "Epoch:  53 \n",
      "\tBatch loss:  0.033306289464235306 \n",
      "\n",
      "Epoch:  54 \n",
      "\tBatch loss:  0.03358704596757889 \n",
      "\n",
      "Epoch:  55 \n",
      "\tBatch loss:  0.03089859150350094 \n",
      "\n",
      "Epoch:  56 \n",
      "\tBatch loss:  0.03318045288324356 \n",
      "\n",
      "Epoch:  57 \n",
      "\tBatch loss:  0.0335104763507843 \n",
      "\n",
      "Epoch:  58 \n",
      "\tBatch loss:  0.032491039484739304 \n",
      "\n",
      "Epoch:  59 \n",
      "\tBatch loss:  0.0321284718811512 \n",
      "\n",
      "Epoch:  60 \n",
      "\tBatch loss:  0.032625436782836914 \n",
      "\n",
      "Epoch:  61 \n",
      "\tBatch loss:  0.03263605758547783 \n",
      "\n",
      "Epoch:  62 \n",
      "\tBatch loss:  0.032632410526275635 \n",
      "\n",
      "Epoch:  63 \n",
      "\tBatch loss:  0.03140949085354805 \n",
      "\n",
      "Epoch:  64 \n",
      "\tBatch loss:  0.030984913930296898 \n",
      "\n",
      "Epoch:  65 \n",
      "\tBatch loss:  0.031483523547649384 \n",
      "\n",
      "Epoch:  66 \n",
      "\tBatch loss:  0.03319985046982765 \n",
      "\n",
      "Epoch:  67 \n",
      "\tBatch loss:  0.03046182356774807 \n",
      "\n",
      "Epoch:  68 \n",
      "\tBatch loss:  0.03132201358675957 \n",
      "\n",
      "Epoch:  69 \n",
      "\tBatch loss:  0.03129241615533829 \n",
      "\n",
      "Epoch:  70 \n",
      "\tBatch loss:  0.031582023948431015 \n",
      "\n",
      "Epoch:  71 \n",
      "\tBatch loss:  0.03162651136517525 \n",
      "\n",
      "Epoch:  72 \n",
      "\tBatch loss:  0.03167835623025894 \n",
      "\n",
      "Epoch:  73 \n",
      "\tBatch loss:  0.03163335099816322 \n",
      "\n",
      "Epoch:  74 \n",
      "\tBatch loss:  0.030562598258256912 \n",
      "\n",
      "Epoch:  75 \n",
      "\tBatch loss:  0.03223596140742302 \n",
      "\n",
      "Epoch:  76 \n",
      "\tBatch loss:  0.030608611181378365 \n",
      "\n",
      "Epoch:  77 \n",
      "\tBatch loss:  0.030181679874658585 \n",
      "\n",
      "Epoch:  78 \n",
      "\tBatch loss:  0.031437948346138 \n",
      "\n",
      "Epoch:  79 \n",
      "\tBatch loss:  0.031955502927303314 \n",
      "\n",
      "Epoch:  80 \n",
      "\tBatch loss:  0.03090083785355091 \n",
      "\n",
      "Epoch:  81 \n",
      "\tBatch loss:  0.03070545382797718 \n",
      "\n",
      "Epoch:  82 \n",
      "\tBatch loss:  0.029437098652124405 \n",
      "\n",
      "Epoch:  83 \n",
      "\tBatch loss:  0.03065832145512104 \n",
      "\n",
      "Epoch:  84 \n",
      "\tBatch loss:  0.03097514808177948 \n",
      "\n",
      "Epoch:  85 \n",
      "\tBatch loss:  0.030901066958904266 \n",
      "\n",
      "Epoch:  86 \n",
      "\tBatch loss:  0.030842915177345276 \n",
      "\n",
      "Epoch:  87 \n",
      "\tBatch loss:  0.03083445131778717 \n",
      "\n"
     ]
    }
   ],
   "source": [
    "loss_list = []\n",
    "loss_list_test = []\n",
    "epochs = int(np.ceil((7*10**5) / x.shape[0]))\n",
    "data_exs = 0\n",
    "for i in range(epochs):\n",
    "    for data in train_loader:\n",
    "        \n",
    "        # data loader\n",
    "        batch_x, batch_y = data\n",
    "        #batch_x_test, batch_y_test = next(iter(test_loader))\n",
    "        \n",
    "        # move to GPU\n",
    "        batch_x = batch_x.to(device)\n",
    "        batch_y = batch_y.to(device)\n",
    "        #batch_x_test = batch_x_test.to(device)\n",
    "        #batch_y_test = batch_y_test.to(device)\n",
    "        \n",
    "        # run model and get the prediction\n",
    "        batch_y_hat = conv_lstm(batch_x)\n",
    "        batch_y_hat = batch_y_hat[0][0]\n",
    "        #batch_y_hat_test = conv_lstm(batch_x_test)\n",
    "        #batch_y_hat_test = batch_y_hat_test[0][0]\n",
    "        \n",
    "        # calculate and store the loss\n",
    "        batch_loss = loss(batch_y, batch_y_hat)\n",
    "        loss_list.append(batch_loss.item())\n",
    "        #batch_loss_test = loss(batch_y_test, batch_y_hat_test)\n",
    "        #loss_list_test.append(batch_loss_test.item())\n",
    "        \n",
    "        # update parameters\n",
    "        optimizer.zero_grad()\n",
    "        batch_loss.backward()\n",
    "        optimizer.step()\n",
    "        \n",
    "    print('Epoch: ', i, '\\n\\tBatch loss: ', batch_loss.item(), '\\n')"
   ]
  },
  {
   "cell_type": "code",
   "execution_count": 17,
   "metadata": {},
   "outputs": [
    {
     "data": {
      "image/png": "[encoded data removed]",
      "text/plain": [
       "<Figure size 432x288 with 1 Axes>"
      ]
     },
     "metadata": {},
     "output_type": "display_data"
    }
   ],
   "source": [
    "plt.plot(loss_list,\n",
    "         color = 'cyan',\n",
    "         label = 'Batch')\n",
    "plt.plot(np.convolve(loss_list, 1/10*np.ones(10))[10:-10],\n",
    "         color = 'navy',\n",
    "         label = 'Running average')\n",
    "plt.legend();"
   ]
  },
  {
   "cell_type": "code",
   "execution_count": 18,
   "metadata": {},
   "outputs": [],
   "source": [
    "#plt.plot(loss_list_test,\n",
    "#         color = 'pink',\n",
    "#         label = 'Test batch')\n",
    "#plt.plot(np.convolve(loss_list_test, 1/10*np.ones(10))[10:-10],\n",
    "#         color = 'red',\n",
    "#         label = 'Test running average')\n",
    "#plt.legend();"
   ]
  },
  {
   "cell_type": "markdown",
   "metadata": {},
   "source": [
    "# Getting random predictions for the test set"
   ]
  },
  {
   "cell_type": "code",
   "execution_count": 19,
   "metadata": {},
   "outputs": [],
   "source": [
    "rand_x, rand_y = next(iter(test_loader))\n",
    "\n",
    "rand_y_hat = conv_lstm(rand_x.to(device))[0][0][0]\n",
    "rand_y_hat = rand_y_hat.cpu().data.numpy()"
   ]
  },
  {
   "cell_type": "markdown",
   "metadata": {},
   "source": [
    "# Viewing random predictions for the test set"
   ]
  },
  {
   "cell_type": "code",
   "execution_count": 20,
   "metadata": {},
   "outputs": [
    {
     "data": {
      "image/png": "[encoded data removed]",
      "text/plain": [
       "<Figure size 432x216 with 3 Axes>"
      ]
     },
     "metadata": {},
     "output_type": "display_data"
    },
    {
     "data": {
      "image/png": "[encoded data removed]",
      "text/plain": [
       "<Figure size 432x216 with 3 Axes>"
      ]
     },
     "metadata": {},
     "output_type": "display_data"
    },
    {
     "data": {
      "image/png": "[encoded data removed]",
      "text/plain": [
       "<Figure size 432x216 with 3 Axes>"
      ]
     },
     "metadata": {},
     "output_type": "display_data"
    },
    {
     "data": {
      "image/png": "[encoded data removed]",
      "text/plain": [
       "<Figure size 432x216 with 3 Axes>"
      ]
     },
     "metadata": {},
     "output_type": "display_data"
    },
    {
     "data": {
      "image/png": "[encoded data removed]",
      "text/plain": [
       "<Figure size 432x216 with 3 Axes>"
      ]
     },
     "metadata": {},
     "output_type": "display_data"
    },
    {
     "data": {
      "image/png": "[encoded data removed]",
      "text/plain": [
       "<Figure size 432x216 with 3 Axes>"
      ]
     },
     "metadata": {},
     "output_type": "display_data"
    },
    {
     "data": {
      "image/png": "[encoded data removed]",
      "text/plain": [
       "<Figure size 432x216 with 3 Axes>"
      ]
     },
     "metadata": {},
     "output_type": "display_data"
    },
    {
     "data": {
      "image/png": "[encoded data removed]",
      "text/plain": [
       "<Figure size 432x216 with 3 Axes>"
      ]
     },
     "metadata": {},
     "output_type": "display_data"
    },
    {
     "data": {
      "image/png": "[encoded data removed]",
      "text/plain": [
       "<Figure size 432x216 with 3 Axes>"
      ]
     },
     "metadata": {},
     "output_type": "display_data"
    },
    {
     "data": {
      "image/png": "[encoded data removed]",
      "text/plain": [
       "<Figure size 432x216 with 3 Axes>"
      ]
     },
     "metadata": {},
     "output_type": "display_data"
    }
   ],
   "source": [
    "for i in range(rand_y_hat.shape[0]):\n",
    "    f, axarr = plt.subplots(1, 3)\n",
    "    f.set_figheight(3)\n",
    "    f.set_figwidth(6)\n",
    "    axarr[0].imshow(rand_x[0, i, 0], cmap = 'gist_gray')\n",
    "    axarr[1].imshow(rand_y_hat[i, 0], cmap = 'gist_gray')\n",
    "    axarr[2].imshow(rand_y[0, i, 0], cmap = 'gist_gray')"
   ]
  }
 ],
 "metadata": {
  "kernelspec": {
   "display_name": "Python 3",
   "language": "python",
   "name": "python3"
  },
  "language_info": {
   "codemirror_mode": {
    "name": "ipython",
    "version": 3
   },
   "file_extension": ".py",
   "mimetype": "text/x-python",
   "name": "python",
   "nbconvert_exporter": "python",
   "pygments_lexer": "ipython3",
   "version": "3.5.2"
  }
 },
 "nbformat": 4,
 "nbformat_minor": 2
}
